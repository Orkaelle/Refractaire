{
 "metadata": {
  "language_info": {
   "codemirror_mode": {
    "name": "ipython",
    "version": 3
   },
   "file_extension": ".py",
   "mimetype": "text/x-python",
   "name": "python",
   "nbconvert_exporter": "python",
   "pygments_lexer": "ipython3",
   "version": "3.8.5-final"
  },
  "orig_nbformat": 2,
  "kernelspec": {
   "name": "python3",
   "display_name": "Python 3.8.5 64-bit ('BetterBefore': conda)",
   "metadata": {
    "interpreter": {
     "hash": "85e8f62e2677d5041e06884cee61fc4ddeb80e96ab05a6c1d83a83fd08f35f5b"
    }
   }
  }
 },
 "nbformat": 4,
 "nbformat_minor": 2,
 "cells": [
  {
   "source": [
    "# Comptacloud\n",
    "*Mathieu & Orkaëlle*"
   ],
   "cell_type": "markdown",
   "metadata": {}
  },
  {
   "source": [
    "## 1 - Initialisation"
   ],
   "cell_type": "markdown",
   "metadata": {}
  },
  {
   "cell_type": "code",
   "execution_count": 1,
   "metadata": {},
   "outputs": [],
   "source": [
    "%load_ext autoreload\n",
    "%autoreload 2"
   ]
  },
  {
   "cell_type": "code",
   "execution_count": 2,
   "metadata": {},
   "outputs": [],
   "source": [
    "import fct_utiles as fct\n",
    "import IA_comptacloud as IACC"
   ]
  },
  {
   "cell_type": "code",
   "execution_count": 3,
   "metadata": {},
   "outputs": [],
   "source": [
    "car = IACC.car\n",
    "car_path = IACC.car_path"
   ]
  },
  {
   "source": [
    "### Loading raw datas"
   ],
   "cell_type": "markdown",
   "metadata": {}
  },
  {
   "cell_type": "code",
   "execution_count": 4,
   "metadata": {},
   "outputs": [
    {
     "output_type": "stream",
     "name": "stdout",
     "text": [
      "Downloading...\n",
      "Dataset dowloaded successfully.\n",
      "Downloading...\n",
      "Dataset dowloaded successfully.\n",
      "Extracting alphabet-dataset/A/...\n",
      "Successfull.\n",
      "Extracting alphabet-dataset/B/...\n",
      "Successfull.\n",
      "Extracting alphabet-dataset/C/...\n",
      "Successfull.\n",
      "Extracting alphabet-dataset/D/...\n",
      "Successfull.\n",
      "Extracting alphabet-dataset/E/...\n",
      "Successfull.\n",
      "Extracting alphabet-dataset/F/...\n",
      "Successfull.\n",
      "Extracting alphabet-dataset/G/...\n",
      "Successfull.\n",
      "Extracting alphabet-dataset/H/...\n",
      "Successfull.\n",
      "Extracting alphabet-dataset/I/...\n",
      "Successfull.\n",
      "Extracting alphabet-dataset/J/...\n",
      "Successfull.\n",
      "Extracting alphabet-dataset/K/...\n",
      "Successfull.\n",
      "Extracting alphabet-dataset/L/...\n",
      "Successfull.\n",
      "Extracting alphabet-dataset/M/...\n",
      "Successfull.\n",
      "Extracting alphabet-dataset/N/...\n",
      "Successfull.\n",
      "Extracting alphabet-dataset/O/...\n",
      "Successfull.\n",
      "Extracting alphabet-dataset/P/...\n",
      "Successfull.\n",
      "Extracting alphabet-dataset/Q/...\n",
      "Successfull.\n",
      "Extracting alphabet-dataset/R/...\n",
      "Successfull.\n",
      "Extracting alphabet-dataset/S/...\n",
      "Successfull.\n",
      "Extracting alphabet-dataset/T/...\n",
      "Successfull.\n",
      "Extracting alphabet-dataset/U/...\n",
      "Successfull.\n",
      "Extracting alphabet-dataset/V/...\n",
      "Successfull.\n",
      "Extracting alphabet-dataset/W/...\n",
      "Successfull.\n",
      "Extracting alphabet-dataset/X/...\n",
      "Successfull.\n",
      "Extracting alphabet-dataset/Y/...\n",
      "Successfull.\n",
      "Extracting alphabet-dataset/Z/...\n",
      "Successfull.\n",
      "Extracting alphabet-dataset/handwritten-data.csv...\n",
      "Successfull.\n",
      "Datas are successfully loaded.\n",
      "\n"
     ]
    }
   ],
   "source": [
    "fct.check_folder()\n",
    "fct.ensure_data_loaded(car_path)"
   ]
  },
  {
   "source": [
    "### Convert png to csv"
   ],
   "cell_type": "markdown",
   "metadata": {}
  },
  {
   "cell_type": "code",
   "execution_count": 5,
   "metadata": {},
   "outputs": [
    {
     "output_type": "stream",
     "name": "stdout",
     "text": [
      "All png files convert to a csv file.\n"
     ]
    }
   ],
   "source": [
    "if os.path.exists(fct.DATASET_PATH) :\n",
    "    if input('Ecraser le csv existant ? (o/n)') == 'o' :\n",
    "        fct.png_to_csv(car_path, 1000)\n",
    "else :\n",
    "    fct.png_to_csv(car_path, 1000)"
   ]
  },
  {
   "source": [
    "## 2 - Training"
   ],
   "cell_type": "markdown",
   "metadata": {}
  },
  {
   "cell_type": "code",
   "execution_count": null,
   "metadata": {},
   "outputs": [],
   "source": [
    "datasetPath = fct.DATASET_PATH\n",
    "modelName = 'completemodel'"
   ]
  },
  {
   "cell_type": "code",
   "execution_count": null,
   "metadata": {},
   "outputs": [],
   "source": [
    "modelPath = IACC.train_model(datasetPath, modelName)"
   ]
  },
  {
   "source": [
    "### Computer Metrics"
   ],
   "cell_type": "markdown",
   "metadata": {}
  },
  {
   "cell_type": "code",
   "execution_count": null,
   "metadata": {},
   "outputs": [],
   "source": [
    "# Infos sur résultats du modèles\n",
    "if input('Voulez-vous des stats sur le modèle ? (o/n)') == 'o' :\n",
    "    IACC.computer_metrics(modelPath)"
   ]
  },
  {
   "source": [
    "## 3 - Testing"
   ],
   "cell_type": "markdown",
   "metadata": {}
  },
  {
   "cell_type": "code",
   "execution_count": null,
   "metadata": {},
   "outputs": [],
   "source": [
    "# Teste en dessinant ! :D\n",
    "if input('Un petit test en dessin ?? (o/n)') == 'o' :\n",
    "    IACC.drawing_test(modelPath)"
   ]
  },
  {
   "cell_type": "code",
   "execution_count": null,
   "metadata": {},
   "outputs": [],
   "source": [
    "img = './TESTS/imgtestTB.jpeg'\n",
    "IACC.img_test(modelPath, img)"
   ]
  },
  {
   "cell_type": "code",
   "execution_count": null,
   "metadata": {},
   "outputs": [],
   "source": []
  }
 ]
}