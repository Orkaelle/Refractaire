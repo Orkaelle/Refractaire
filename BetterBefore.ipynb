{
 "metadata": {
  "language_info": {
   "codemirror_mode": {
    "name": "ipython",
    "version": 3
   },
   "file_extension": ".py",
   "mimetype": "text/x-python",
   "name": "python",
   "nbconvert_exporter": "python",
   "pygments_lexer": "ipython3",
   "version": "3.8.5-final"
  },
  "orig_nbformat": 2,
  "kernelspec": {
   "name": "python3",
   "display_name": "Python 3.8.5 64-bit ('BetterBefore': conda)",
   "metadata": {
    "interpreter": {
     "hash": "85e8f62e2677d5041e06884cee61fc4ddeb80e96ab05a6c1d83a83fd08f35f5b"
    }
   }
  }
 },
 "nbformat": 4,
 "nbformat_minor": 2,
 "cells": [
  {
   "source": [
    "# Better Before\n",
    "\n"
   ],
   "cell_type": "markdown",
   "metadata": {}
  },
  {
   "cell_type": "code",
   "execution_count": 18,
   "metadata": {},
   "outputs": [],
   "source": [
    "%load_ext autoreload\n",
    "%autoreload 2"
   ]
  },
  {
   "cell_type": "code",
   "execution_count": 33,
   "metadata": {},
   "outputs": [],
   "source": [
    "import fct_utiles as fct\n",
    "import IA_comptacloud as IACC"
   ]
  },
  {
   "cell_type": "code",
   "execution_count": 27,
   "metadata": {},
   "outputs": [],
   "source": [
    "car = IACC.car\n",
    "car_path = IACC.car_path"
   ]
  },
  {
   "cell_type": "code",
   "execution_count": 28,
   "metadata": {},
   "outputs": [],
   "source": [
    "fct.check_folder()"
   ]
  },
  {
   "cell_type": "code",
   "execution_count": 29,
   "metadata": {},
   "outputs": [],
   "source": [
    "datasetPath = fct.DATASET_PATH"
   ]
  },
  {
   "source": [
    "## Définition des paramètres"
   ],
   "cell_type": "markdown",
   "metadata": {}
  },
  {
   "cell_type": "code",
   "execution_count": 40,
   "metadata": {},
   "outputs": [
    {
     "output_type": "stream",
     "name": "stdout",
     "text": [
      "28800 train samples\n",
      "7200 test samples\n",
      "Model: \"sequential\"\n",
      "_________________________________________________________________\n",
      "Layer (type)                 Output Shape              Param #   \n",
      "=================================================================\n",
      "conv2d (Conv2D)              (None, 9, 9, 32)          320       \n",
      "_________________________________________________________________\n",
      "conv2d_1 (Conv2D)            (None, 3, 3, 64)          18496     \n",
      "_________________________________________________________________\n",
      "max_pooling2d (MaxPooling2D) (None, 1, 1, 64)          0         \n",
      "_________________________________________________________________\n",
      "dropout (Dropout)            (None, 1, 1, 64)          0         \n",
      "_________________________________________________________________\n",
      "flatten (Flatten)            (None, 64)                0         \n",
      "_________________________________________________________________\n",
      "dense (Dense)                (None, 128)               8320      \n",
      "_________________________________________________________________\n",
      "dropout_1 (Dropout)          (None, 128)               0         \n",
      "_________________________________________________________________\n",
      "dense_1 (Dense)              (None, 36)                4644      \n",
      "=================================================================\n",
      "Total params: 31,780\n",
      "Trainable params: 31,780\n",
      "Non-trainable params: 0\n",
      "_________________________________________________________________\n",
      "Epoch 1/10\n",
      "900/900 [==============================] - 4s 4ms/step - loss: 1.9770 - accuracy: 0.4517 - val_loss: 1.0719 - val_accuracy: 0.6961\n",
      "Epoch 2/10\n",
      "900/900 [==============================] - 3s 3ms/step - loss: 1.2785 - accuracy: 0.6136 - val_loss: 0.8807 - val_accuracy: 0.7428\n",
      "Epoch 3/10\n",
      "900/900 [==============================] - 3s 3ms/step - loss: 1.1244 - accuracy: 0.6600 - val_loss: 0.7778 - val_accuracy: 0.7692\n",
      "Epoch 4/10\n",
      "900/900 [==============================] - 3s 3ms/step - loss: 1.0275 - accuracy: 0.6883 - val_loss: 0.7213 - val_accuracy: 0.7850\n",
      "Epoch 5/10\n",
      "900/900 [==============================] - 2s 3ms/step - loss: 0.9636 - accuracy: 0.7000 - val_loss: 0.6746 - val_accuracy: 0.7943\n",
      "Epoch 6/10\n",
      "900/900 [==============================] - 3s 3ms/step - loss: 0.9147 - accuracy: 0.7193 - val_loss: 0.6453 - val_accuracy: 0.8019\n",
      "Epoch 7/10\n",
      "900/900 [==============================] - 3s 3ms/step - loss: 0.8898 - accuracy: 0.7255 - val_loss: 0.6238 - val_accuracy: 0.8062\n",
      "Epoch 8/10\n",
      "900/900 [==============================] - 3s 3ms/step - loss: 0.8525 - accuracy: 0.7344 - val_loss: 0.5900 - val_accuracy: 0.8151\n",
      "Epoch 9/10\n",
      "900/900 [==============================] - 3s 3ms/step - loss: 0.8265 - accuracy: 0.7424 - val_loss: 0.5843 - val_accuracy: 0.8197\n",
      "Epoch 10/10\n",
      "900/900 [==============================] - 3s 3ms/step - loss: 0.7988 - accuracy: 0.7479 - val_loss: 0.5777 - val_accuracy: 0.8213\n",
      "Test loss: 0.5776908993721008\n",
      "Test accuracy: 0.8212500214576721\n"
     ]
    }
   ],
   "source": [
    "modelPath = IACC.train_model(datasetPath, 'Test1')"
   ]
  },
  {
   "cell_type": "code",
   "execution_count": 41,
   "metadata": {},
   "outputs": [
    {
     "output_type": "stream",
     "name": "stdout",
     "text": [
      "28800 train samples\n",
      "7200 test samples\n",
      "Model: \"sequential_1\"\n",
      "_________________________________________________________________\n",
      "Layer (type)                 Output Shape              Param #   \n",
      "=================================================================\n",
      "conv2d_2 (Conv2D)            (None, 9, 9, 32)          320       \n",
      "_________________________________________________________________\n",
      "conv2d_3 (Conv2D)            (None, 3, 3, 32)          9248      \n",
      "_________________________________________________________________\n",
      "max_pooling2d_1 (MaxPooling2 (None, 1, 1, 32)          0         \n",
      "_________________________________________________________________\n",
      "dropout_2 (Dropout)          (None, 1, 1, 32)          0         \n",
      "_________________________________________________________________\n",
      "flatten_1 (Flatten)          (None, 32)                0         \n",
      "_________________________________________________________________\n",
      "dense_2 (Dense)              (None, 128)               4224      \n",
      "_________________________________________________________________\n",
      "dropout_3 (Dropout)          (None, 128)               0         \n",
      "_________________________________________________________________\n",
      "dense_3 (Dense)              (None, 36)                4644      \n",
      "=================================================================\n",
      "Total params: 18,436\n",
      "Trainable params: 18,436\n",
      "Non-trainable params: 0\n",
      "_________________________________________________________________\n",
      "Epoch 1/10\n",
      "900/900 [==============================] - 3s 4ms/step - loss: 2.2318 - accuracy: 0.3769 - val_loss: 1.2760 - val_accuracy: 0.6356\n",
      "Epoch 2/10\n",
      "900/900 [==============================] - 3s 3ms/step - loss: 1.5623 - accuracy: 0.5387 - val_loss: 1.0737 - val_accuracy: 0.7008\n",
      "Epoch 3/10\n",
      "900/900 [==============================] - 2s 3ms/step - loss: 1.3870 - accuracy: 0.5840 - val_loss: 0.9512 - val_accuracy: 0.7317\n",
      "Epoch 4/10\n",
      "900/900 [==============================] - 2s 3ms/step - loss: 1.2890 - accuracy: 0.6083 - val_loss: 0.8727 - val_accuracy: 0.7462\n",
      "Epoch 5/10\n",
      "900/900 [==============================] - 2s 3ms/step - loss: 1.2208 - accuracy: 0.6254 - val_loss: 0.8288 - val_accuracy: 0.7579\n",
      "Epoch 6/10\n",
      "900/900 [==============================] - 2s 3ms/step - loss: 1.1653 - accuracy: 0.6441 - val_loss: 0.8102 - val_accuracy: 0.7583\n",
      "Epoch 7/10\n",
      "900/900 [==============================] - 2s 3ms/step - loss: 1.1158 - accuracy: 0.6568 - val_loss: 0.7699 - val_accuracy: 0.7703\n",
      "Epoch 8/10\n",
      "900/900 [==============================] - 2s 3ms/step - loss: 1.0842 - accuracy: 0.6636 - val_loss: 0.7399 - val_accuracy: 0.7811\n",
      "Epoch 9/10\n",
      "900/900 [==============================] - 2s 3ms/step - loss: 1.0621 - accuracy: 0.6715 - val_loss: 0.7134 - val_accuracy: 0.7817\n",
      "Epoch 10/10\n",
      "900/900 [==============================] - 2s 3ms/step - loss: 1.0431 - accuracy: 0.6775 - val_loss: 0.6977 - val_accuracy: 0.7919\n",
      "Test loss: 0.6977269053459167\n",
      "Test accuracy: 0.7919444441795349\n"
     ]
    }
   ],
   "source": [
    "modelPath = IACC.train_model(datasetPath, 'Test2', conv2_layers=32)"
   ]
  },
  {
   "cell_type": "code",
   "execution_count": 42,
   "metadata": {},
   "outputs": [
    {
     "output_type": "stream",
     "name": "stdout",
     "text": [
      "28800 train samples\n",
      "7200 test samples\n",
      "Model: \"sequential_2\"\n",
      "_________________________________________________________________\n",
      "Layer (type)                 Output Shape              Param #   \n",
      "=================================================================\n",
      "conv2d_4 (Conv2D)            (None, 9, 9, 32)          320       \n",
      "_________________________________________________________________\n",
      "conv2d_5 (Conv2D)            (None, 3, 3, 64)          18496     \n",
      "_________________________________________________________________\n",
      "max_pooling2d_2 (MaxPooling2 (None, 1, 1, 64)          0         \n",
      "_________________________________________________________________\n",
      "dropout_4 (Dropout)          (None, 1, 1, 64)          0         \n",
      "_________________________________________________________________\n",
      "flatten_2 (Flatten)          (None, 64)                0         \n",
      "_________________________________________________________________\n",
      "dense_4 (Dense)              (None, 128)               8320      \n",
      "_________________________________________________________________\n",
      "dropout_5 (Dropout)          (None, 128)               0         \n",
      "_________________________________________________________________\n",
      "dense_5 (Dense)              (None, 36)                4644      \n",
      "=================================================================\n",
      "Total params: 31,780\n",
      "Trainable params: 31,780\n",
      "Non-trainable params: 0\n",
      "_________________________________________________________________\n",
      "Epoch 1/10\n",
      "900/900 [==============================] - 3s 3ms/step - loss: 1.9014 - accuracy: 0.4690 - val_loss: 1.0803 - val_accuracy: 0.6844\n",
      "Epoch 2/10\n",
      "900/900 [==============================] - 2s 3ms/step - loss: 1.3050 - accuracy: 0.6106 - val_loss: 0.8910 - val_accuracy: 0.7451\n",
      "Epoch 3/10\n",
      "900/900 [==============================] - 3s 3ms/step - loss: 1.1860 - accuracy: 0.6412 - val_loss: 0.8080 - val_accuracy: 0.7568\n",
      "Epoch 4/10\n",
      "900/900 [==============================] - 3s 4ms/step - loss: 1.0851 - accuracy: 0.6675 - val_loss: 0.7482 - val_accuracy: 0.7733\n",
      "Epoch 5/10\n",
      "900/900 [==============================] - 3s 3ms/step - loss: 1.0344 - accuracy: 0.6820 - val_loss: 0.7106 - val_accuracy: 0.7836\n",
      "Epoch 6/10\n",
      "900/900 [==============================] - 2s 3ms/step - loss: 0.9932 - accuracy: 0.6931 - val_loss: 0.6878 - val_accuracy: 0.7907\n",
      "Epoch 7/10\n",
      "900/900 [==============================] - 2s 3ms/step - loss: 0.9422 - accuracy: 0.7076 - val_loss: 0.6515 - val_accuracy: 0.7997\n",
      "Epoch 8/10\n",
      "900/900 [==============================] - 2s 3ms/step - loss: 0.9208 - accuracy: 0.7109 - val_loss: 0.6332 - val_accuracy: 0.7992\n",
      "Epoch 9/10\n",
      "900/900 [==============================] - 2s 3ms/step - loss: 0.8913 - accuracy: 0.7198 - val_loss: 0.6179 - val_accuracy: 0.8094\n",
      "Epoch 10/10\n",
      "900/900 [==============================] - 2s 3ms/step - loss: 0.8714 - accuracy: 0.7271 - val_loss: 0.5882 - val_accuracy: 0.8168\n",
      "Test loss: 0.5881630182266235\n",
      "Test accuracy: 0.8168055415153503\n"
     ]
    }
   ],
   "source": [
    "modelPath = IACC.train_model(datasetPath, 'Test3', dropout1=0.5, dropout2=0)"
   ]
  },
  {
   "cell_type": "code",
   "execution_count": null,
   "metadata": {},
   "outputs": [],
   "source": []
  }
 ]
}